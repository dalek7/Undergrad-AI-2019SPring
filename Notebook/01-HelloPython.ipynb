{
 "cells": [
  {
   "cell_type": "markdown",
   "metadata": {
    "colab_type": "text",
    "id": "qSC-8i-maMLO"
   },
   "source": [
    "# Python tutorial #1"
   ]
  },
  {
   "cell_type": "markdown",
   "metadata": {
    "colab_type": "text",
    "id": "dgdllkThaMLP"
   },
   "source": [
    "This page was created for students to learn Python in the AI class (717005) at Hallym University."
   ]
  },
  {
   "cell_type": "markdown",
   "metadata": {
    "colab_type": "text",
    "id": "mxo8IrkwaMLQ"
   },
   "source": [
    "## Basic data types"
   ]
  },
  {
   "cell_type": "code",
   "execution_count": 1,
   "metadata": {
    "colab": {
     "base_uri": "https://localhost:8080/",
     "height": 161
    },
    "colab_type": "code",
    "executionInfo": {
     "elapsed": 1010,
     "status": "ok",
     "timestamp": 1551748893995,
     "user": {
      "displayName": "Seung-Chan Kim",
      "photoUrl": "https://lh6.googleusercontent.com/-GfSlgMh8OAM/AAAAAAAAAAI/AAAAAAAAAU8/pF51x30wES8/s64/photo.jpg",
      "userId": "15121482667684748397"
     },
     "user_tz": -540
    },
    "id": "ojl5s_pPaMLR",
    "outputId": "4109aace-b377-41fa-ab3a-95b2467e9382"
   },
   "outputs": [
    {
     "name": "stdout",
     "output_type": "stream",
     "text": [
      "<class 'int'>\n",
      "3\n",
      "4\n",
      "2\n",
      "6\n",
      "9\n",
      "4\n",
      "8\n"
     ]
    }
   ],
   "source": [
    "x = 3\n",
    "print(type(x)) # Prints \"<class 'int'>\"\n",
    "print(x)       # Prints \"3\"\n",
    "print(x + 1)   # Addition; prints \"4\"\n",
    "print(x - 1)   # Subtraction; prints \"2\"\n",
    "print(x * 2)   # Multiplication; prints \"6\"\n",
    "print(x ** 2)  # Exponentiation; prints \"9\"\n",
    "x += 1\n",
    "print(x)  # Prints \"4\"\n",
    "x *= 2\n",
    "print(x)  # Prints \"8\""
   ]
  },
  {
   "cell_type": "code",
   "execution_count": 2,
   "metadata": {
    "colab": {
     "base_uri": "https://localhost:8080/",
     "height": 53
    },
    "colab_type": "code",
    "executionInfo": {
     "elapsed": 998,
     "status": "ok",
     "timestamp": 1551748893996,
     "user": {
      "displayName": "Seung-Chan Kim",
      "photoUrl": "https://lh6.googleusercontent.com/-GfSlgMh8OAM/AAAAAAAAAAI/AAAAAAAAAU8/pF51x30wES8/s64/photo.jpg",
      "userId": "15121482667684748397"
     },
     "user_tz": -540
    },
    "id": "LJi4OGnmbRi2",
    "outputId": "c7087ea1-5a95-4ceb-973b-c39db8b2e7fd"
   },
   "outputs": [
    {
     "name": "stdout",
     "output_type": "stream",
     "text": [
      "<class 'float'>\n",
      "2.5 3.5 5.0 6.25\n"
     ]
    }
   ],
   "source": [
    "y = 2.5\n",
    "print(type(y)) # Prints \"<class 'float'>\"\n",
    "print(y, y + 1, y * 2, y ** 2) # Prints \"2.5 3.5 5.0 6.25\""
   ]
  },
  {
   "cell_type": "markdown",
   "metadata": {
    "colab_type": "text",
    "id": "BZz_Be6cb3q2"
   },
   "source": [
    "## String"
   ]
  },
  {
   "cell_type": "code",
   "execution_count": 3,
   "metadata": {
    "colab": {
     "base_uri": "https://localhost:8080/",
     "height": 35
    },
    "colab_type": "code",
    "executionInfo": {
     "elapsed": 988,
     "status": "ok",
     "timestamp": 1551748893997,
     "user": {
      "displayName": "Seung-Chan Kim",
      "photoUrl": "https://lh6.googleusercontent.com/-GfSlgMh8OAM/AAAAAAAAAAI/AAAAAAAAAU8/pF51x30wES8/s64/photo.jpg",
      "userId": "15121482667684748397"
     },
     "user_tz": -540
    },
    "id": "sI6ozFj8b306",
    "outputId": "3ec8e92c-63e4-4d56-8550-32e7d49cd037"
   },
   "outputs": [
    {
     "name": "stdout",
     "output_type": "stream",
     "text": [
      "Hello, Bob\n"
     ]
    }
   ],
   "source": [
    "name = 'Bob'\n",
    "print('Hello, {}'.format(name))"
   ]
  },
  {
   "cell_type": "markdown",
   "metadata": {
    "colab_type": "text",
    "id": "hlZt-Mttl57A"
   },
   "source": [
    "Q. Hello, Bob and Jane 을 출력하려면?"
   ]
  },
  {
   "cell_type": "markdown",
   "metadata": {
    "colab_type": "text",
    "id": "e83IVnQ6aMLU"
   },
   "source": [
    "## For statement"
   ]
  },
  {
   "cell_type": "markdown",
   "metadata": {
    "colab_type": "text",
    "id": "c6p7jOCsaMLV"
   },
   "source": [
    "range"
   ]
  },
  {
   "cell_type": "code",
   "execution_count": 4,
   "metadata": {
    "colab": {
     "base_uri": "https://localhost:8080/",
     "height": 35
    },
    "colab_type": "code",
    "executionInfo": {
     "elapsed": 977,
     "status": "ok",
     "timestamp": 1551748893997,
     "user": {
      "displayName": "Seung-Chan Kim",
      "photoUrl": "https://lh6.googleusercontent.com/-GfSlgMh8OAM/AAAAAAAAAAI/AAAAAAAAAU8/pF51x30wES8/s64/photo.jpg",
      "userId": "15121482667684748397"
     },
     "user_tz": -540
    },
    "id": "tPvcPEz9aMLW",
    "outputId": "a72b757c-04d5-4e46-a0ee-7e99fdf56b38"
   },
   "outputs": [
    {
     "name": "stdout",
     "output_type": "stream",
     "text": [
      "range(0, 5)\n"
     ]
    }
   ],
   "source": [
    "A = range(5)\n",
    "print(A)"
   ]
  },
  {
   "cell_type": "code",
   "execution_count": 5,
   "metadata": {
    "colab": {
     "base_uri": "https://localhost:8080/",
     "height": 35
    },
    "colab_type": "code",
    "executionInfo": {
     "elapsed": 969,
     "status": "ok",
     "timestamp": 1551748893998,
     "user": {
      "displayName": "Seung-Chan Kim",
      "photoUrl": "https://lh6.googleusercontent.com/-GfSlgMh8OAM/AAAAAAAAAAI/AAAAAAAAAU8/pF51x30wES8/s64/photo.jpg",
      "userId": "15121482667684748397"
     },
     "user_tz": -540
    },
    "id": "qngukUgBbIu8",
    "outputId": "6a31f0ea-87ff-49f2-82fa-a9832f89a3cf"
   },
   "outputs": [
    {
     "name": "stdout",
     "output_type": "stream",
     "text": [
      "2\n"
     ]
    }
   ],
   "source": [
    "print(A[2])"
   ]
  },
  {
   "cell_type": "code",
   "execution_count": 6,
   "metadata": {
    "colab": {
     "base_uri": "https://localhost:8080/",
     "height": 107
    },
    "colab_type": "code",
    "executionInfo": {
     "elapsed": 957,
     "status": "ok",
     "timestamp": 1551748893999,
     "user": {
      "displayName": "Seung-Chan Kim",
      "photoUrl": "https://lh6.googleusercontent.com/-GfSlgMh8OAM/AAAAAAAAAAI/AAAAAAAAAU8/pF51x30wES8/s64/photo.jpg",
      "userId": "15121482667684748397"
     },
     "user_tz": -540
    },
    "id": "dZnUiBlPaMLY",
    "outputId": "a0afbd28-21c5-4de8-af1c-5fb0ae912264"
   },
   "outputs": [
    {
     "name": "stdout",
     "output_type": "stream",
     "text": [
      "0 0\n",
      "1 1\n",
      "2 2\n",
      "3 3\n",
      "4 4\n"
     ]
    }
   ],
   "source": [
    "for i in range(5):\n",
    "    print(i, A[i])"
   ]
  },
  {
   "cell_type": "code",
   "execution_count": 7,
   "metadata": {
    "colab": {
     "base_uri": "https://localhost:8080/",
     "height": 125
    },
    "colab_type": "code",
    "executionInfo": {
     "elapsed": 947,
     "status": "ok",
     "timestamp": 1551748893999,
     "user": {
      "displayName": "Seung-Chan Kim",
      "photoUrl": "https://lh6.googleusercontent.com/-GfSlgMh8OAM/AAAAAAAAAAI/AAAAAAAAAU8/pF51x30wES8/s64/photo.jpg",
      "userId": "15121482667684748397"
     },
     "user_tz": -540
    },
    "id": "GE_XLBeTbWyR",
    "outputId": "dca5a767-0d9a-43c7-91d4-a82975e68534"
   },
   "outputs": [
    {
     "name": "stdout",
     "output_type": "stream",
     "text": [
      "0 + 0 = 0\n",
      "0 + 1 = 1\n",
      "1 + 0 = 1\n",
      "1 + 1 = 2\n",
      "2 + 0 = 2\n",
      "2 + 1 = 3\n"
     ]
    }
   ],
   "source": [
    "for i in range(3):\n",
    "  for j in range(2):\n",
    "    print('{} + {} = {}'.format(i, j, i+j))"
   ]
  },
  {
   "cell_type": "markdown",
   "metadata": {
    "colab_type": "text",
    "id": "Z3WiqLfibXjT"
   },
   "source": [
    "HW : Implement the multiplication table (구구단)"
   ]
  },
  {
   "cell_type": "markdown",
   "metadata": {
    "colab_type": "text",
    "id": "hQuiC7-KaMLa"
   },
   "source": [
    "## Operators"
   ]
  },
  {
   "cell_type": "markdown",
   "metadata": {
    "colab_type": "text",
    "id": "UHccoIyzaMLc"
   },
   "source": [
    "### + operator"
   ]
  },
  {
   "cell_type": "code",
   "execution_count": 8,
   "metadata": {
    "colab": {
     "base_uri": "https://localhost:8080/",
     "height": 71
    },
    "colab_type": "code",
    "executionInfo": {
     "elapsed": 1335,
     "status": "ok",
     "timestamp": 1551748894395,
     "user": {
      "displayName": "Seung-Chan Kim",
      "photoUrl": "https://lh6.googleusercontent.com/-GfSlgMh8OAM/AAAAAAAAAAI/AAAAAAAAAU8/pF51x30wES8/s64/photo.jpg",
      "userId": "15121482667684748397"
     },
     "user_tz": -540
    },
    "id": "MWkrKBx6aMLc",
    "outputId": "ee2076cf-79ed-4306-8362-9d26e2642a57"
   },
   "outputs": [
    {
     "name": "stdout",
     "output_type": "stream",
     "text": [
      "(1, 2, 3, 4, 5, 6)\n",
      "[1, 2, 3, 4, 5, 6]\n",
      "Hello World\n"
     ]
    }
   ],
   "source": [
    "print((1, 2, 3) + (4, 5, 6))\n",
    "print([1, 2, 3] + [4, 5, 6])\n",
    "print(\"Hello\" + \" \" + \"World\")"
   ]
  },
  {
   "cell_type": "markdown",
   "metadata": {
    "colab_type": "text",
    "id": "Ov8-AivXaMLe"
   },
   "source": [
    "### * operator\n",
    "The * operator produces a new tuple, list, or string that \"repeats\" the original content."
   ]
  },
  {
   "cell_type": "code",
   "execution_count": 9,
   "metadata": {
    "colab": {
     "base_uri": "https://localhost:8080/",
     "height": 71
    },
    "colab_type": "code",
    "executionInfo": {
     "elapsed": 1328,
     "status": "ok",
     "timestamp": 1551748894396,
     "user": {
      "displayName": "Seung-Chan Kim",
      "photoUrl": "https://lh6.googleusercontent.com/-GfSlgMh8OAM/AAAAAAAAAAI/AAAAAAAAAU8/pF51x30wES8/s64/photo.jpg",
      "userId": "15121482667684748397"
     },
     "user_tz": -540
    },
    "id": "Zedc253iaMLf",
    "outputId": "dda7d21f-3d50-4026-884c-b44dd3d9a74f"
   },
   "outputs": [
    {
     "name": "stdout",
     "output_type": "stream",
     "text": [
      "(1, 2, 3, 1, 2, 3, 1, 2, 3)\n",
      "[1, 2, 3, 1, 2, 3, 1, 2, 3]\n",
      "Hello Hello Hello \n"
     ]
    }
   ],
   "source": [
    "print((1, 2, 3) * 3)\n",
    "print([1, 2, 3] * 3)\n",
    "print(\"Hello \"*3)"
   ]
  },
  {
   "cell_type": "markdown",
   "metadata": {
    "colab_type": "text",
    "id": "OaHjIqKWaMLh"
   },
   "source": [
    "## Containers\n",
    "Python includes several built-in container types: lists, dictionaries, sets, and tuples."
   ]
  },
  {
   "cell_type": "markdown",
   "metadata": {
    "colab_type": "text",
    "id": "OAGJqxCkaMLi"
   },
   "source": [
    "### Tuple\n",
    "A simple immutable (변경할 수 없는, 불변의) ordered sequence of items"
   ]
  },
  {
   "cell_type": "code",
   "execution_count": 10,
   "metadata": {
    "colab": {
     "base_uri": "https://localhost:8080/",
     "height": 52
    },
    "colab_type": "code",
    "executionInfo": {
     "elapsed": 968,
     "status": "ok",
     "timestamp": 1551924768396,
     "user": {
      "displayName": "Seung-Chan Kim",
      "photoUrl": "https://lh6.googleusercontent.com/-GfSlgMh8OAM/AAAAAAAAAAI/AAAAAAAAAU8/pF51x30wES8/s64/photo.jpg",
      "userId": "15121482667684748397"
     },
     "user_tz": -540
    },
    "id": "dny8-Lf1aMLi",
    "outputId": "af930545-675d-4bb1-de99-8150f085b953"
   },
   "outputs": [
    {
     "name": "stdout",
     "output_type": "stream",
     "text": [
      "January\n",
      "index of 7 ==>  August\n"
     ]
    }
   ],
   "source": [
    "# creating a tuple\n",
    "months = ('January','February','March','April','May','June',\\\n",
    "'July','August','September','October','November','December')\n",
    "\n",
    "print(months[0])\n",
    "print(\"index of 7 ==> \" , months[7])"
   ]
  },
  {
   "cell_type": "code",
   "execution_count": 11,
   "metadata": {
    "colab": {
     "base_uri": "https://localhost:8080/",
     "height": 228
    },
    "colab_type": "code",
    "executionInfo": {
     "elapsed": 968,
     "status": "ok",
     "timestamp": 1551924768399,
     "user": {
      "displayName": "Seung-Chan Kim",
      "photoUrl": "https://lh6.googleusercontent.com/-GfSlgMh8OAM/AAAAAAAAAAI/AAAAAAAAAU8/pF51x30wES8/s64/photo.jpg",
      "userId": "15121482667684748397"
     },
     "user_tz": -540
    },
    "id": "CWB7JciO7E3h",
    "outputId": "d97cc0a9-4de7-4c29-f93b-554b7fc13304"
   },
   "outputs": [
    {
     "name": "stdout",
     "output_type": "stream",
     "text": [
      "January\n",
      "February\n",
      "March\n",
      "April\n",
      "May\n",
      "June\n",
      "July\n",
      "August\n",
      "September\n",
      "October\n",
      "November\n",
      "December\n"
     ]
    }
   ],
   "source": [
    "for i in range(12):\n",
    "  print(months[i])"
   ]
  },
  {
   "cell_type": "markdown",
   "metadata": {
    "colab_type": "text",
    "id": "lPlHhwSHaMLl"
   },
   "source": [
    "To print one by one"
   ]
  },
  {
   "cell_type": "code",
   "execution_count": 12,
   "metadata": {
    "colab": {
     "base_uri": "https://localhost:8080/",
     "height": 233
    },
    "colab_type": "code",
    "executionInfo": {
     "elapsed": 1299,
     "status": "ok",
     "timestamp": 1551748894398,
     "user": {
      "displayName": "Seung-Chan Kim",
      "photoUrl": "https://lh6.googleusercontent.com/-GfSlgMh8OAM/AAAAAAAAAAI/AAAAAAAAAU8/pF51x30wES8/s64/photo.jpg",
      "userId": "15121482667684748397"
     },
     "user_tz": -540
    },
    "id": "ScQmISeXaMLm",
    "outputId": "11cfc027-e494-479e-ba5b-c4846d4c1866",
    "scrolled": true
   },
   "outputs": [
    {
     "name": "stdout",
     "output_type": "stream",
     "text": [
      "January\n",
      "February\n",
      "March\n",
      "April\n",
      "May\n",
      "June\n",
      "July\n",
      "August\n",
      "September\n",
      "October\n",
      "November\n",
      "December\n"
     ]
    }
   ],
   "source": [
    "# iterate through them:\n",
    "for item in months:\n",
    "    print (item)"
   ]
  },
  {
   "cell_type": "code",
   "execution_count": 13,
   "metadata": {
    "colab": {
     "base_uri": "https://localhost:8080/",
     "height": 140
    },
    "colab_type": "code",
    "executionInfo": {
     "elapsed": 750,
     "status": "ok",
     "timestamp": 1551925441803,
     "user": {
      "displayName": "Seung-Chan Kim",
      "photoUrl": "https://lh6.googleusercontent.com/-GfSlgMh8OAM/AAAAAAAAAAI/AAAAAAAAAU8/pF51x30wES8/s64/photo.jpg",
      "userId": "15121482667684748397"
     },
     "user_tz": -540
    },
    "id": "dy8rjBh6aMLo",
    "outputId": "826b7602-4672-4eea-9b6f-11ad9d44d206"
   },
   "outputs": [
    {
     "name": "stdout",
     "output_type": "stream",
     "text": [
      "('john', 32, (2, 3, 4, 5), 'hello')\n",
      "(2, 3, 4, 5)\n",
      "3\n",
      "('john', 32)\n",
      "((2, 3, 4, 5), 'hello')\n",
      "hello\n",
      "(2, 3, 4, 5)\n"
     ]
    }
   ],
   "source": [
    "t = ('john', 32, (2,3,4,5), 'hello')\n",
    "print(t)\n",
    "print(t[2])\n",
    "print(t[2][1])\n",
    "print(t[:2]) # index NOT included\n",
    "print(t[2:]) # index included O\n",
    "\n",
    "print(t[-1])\n",
    "print(t[-2])"
   ]
  },
  {
   "cell_type": "markdown",
   "metadata": {
    "colab": {
     "base_uri": "https://localhost:8080/",
     "height": 169
    },
    "colab_type": "code",
    "executionInfo": {
     "elapsed": 582,
     "status": "error",
     "timestamp": 1551925442363,
     "user": {
      "displayName": "Seung-Chan Kim",
      "photoUrl": "https://lh6.googleusercontent.com/-GfSlgMh8OAM/AAAAAAAAAAI/AAAAAAAAAU8/pF51x30wES8/s64/photo.jpg",
      "userId": "15121482667684748397"
     },
     "user_tz": -540
    },
    "id": "gy_8FV_Y9qyV",
    "outputId": "1103c157-98c6-40f4-e4f3-da911366865e"
   },
   "source": [
    "An error will occur if you do the following: (아래와 같이 하면 오류가 발생합니다.)\n",
    "\n",
    "Why?\n",
    "```\n",
    "t[2] = 1\n",
    "```\n",
    "\n",
    "TypeError: 'tuple' object does not support item assignment"
   ]
  },
  {
   "cell_type": "markdown",
   "metadata": {
    "colab_type": "text",
    "id": "Vpp-tDMuaMLq"
   },
   "source": [
    "### List\n",
    "Mutable (바꿀수 있는, 변경가능한) ordered sequence of items of mixed types"
   ]
  },
  {
   "cell_type": "code",
   "execution_count": 14,
   "metadata": {
    "colab": {
     "base_uri": "https://localhost:8080/",
     "height": 71
    },
    "colab_type": "code",
    "executionInfo": {
     "elapsed": 1284,
     "status": "ok",
     "timestamp": 1551748894399,
     "user": {
      "displayName": "Seung-Chan Kim",
      "photoUrl": "https://lh6.googleusercontent.com/-GfSlgMh8OAM/AAAAAAAAAAI/AAAAAAAAAU8/pF51x30wES8/s64/photo.jpg",
      "userId": "15121482667684748397"
     },
     "user_tz": -540
    },
    "id": "oOpLGVahaMLr",
    "outputId": "fd6a3032-4ef9-4062-f85c-ad4b7b4fbdfc"
   },
   "outputs": [
    {
     "name": "stdout",
     "output_type": "stream",
     "text": [
      "['hallym', 1, 3.141572, 'hello']\n",
      "['hallym', 45, 3.141572, 'hello']\n",
      "['hallym', 45, 3.141572, 'hello', 'September']\n"
     ]
    }
   ],
   "source": [
    "li = ['hallym', 1, 3.141572, 'hello']\n",
    "print(li)\n",
    "li[1] = 45\n",
    "print(li)\n",
    "li.append('September')\n",
    "print(li)"
   ]
  },
  {
   "cell_type": "code",
   "execution_count": 15,
   "metadata": {
    "colab": {
     "base_uri": "https://localhost:8080/",
     "height": 71
    },
    "colab_type": "code",
    "executionInfo": {
     "elapsed": 1275,
     "status": "ok",
     "timestamp": 1551748894399,
     "user": {
      "displayName": "Seung-Chan Kim",
      "photoUrl": "https://lh6.googleusercontent.com/-GfSlgMh8OAM/AAAAAAAAAAI/AAAAAAAAAU8/pF51x30wES8/s64/photo.jpg",
      "userId": "15121482667684748397"
     },
     "user_tz": -540
    },
    "id": "YiwNIcn3aMLv",
    "outputId": "1bc10070-17a0-493c-9a5f-df6d002c0a2b"
   },
   "outputs": [
    {
     "name": "stdout",
     "output_type": "stream",
     "text": [
      "[0]\n",
      "[0, 1]\n",
      "[0, 1, 2]\n"
     ]
    }
   ],
   "source": [
    "v = []\n",
    "for i in range(0,3):\n",
    "    v.append(i)\n",
    "    print(v)"
   ]
  }
 ],
 "metadata": {
  "colab": {
   "collapsed_sections": [],
   "name": "01-HelloPython.ipynb",
   "provenance": [],
   "version": "0.3.2"
  },
  "kernelspec": {
   "display_name": "Python 3",
   "language": "python",
   "name": "python3"
  },
  "language_info": {
   "codemirror_mode": {
    "name": "ipython",
    "version": 3
   },
   "file_extension": ".py",
   "mimetype": "text/x-python",
   "name": "python",
   "nbconvert_exporter": "python",
   "pygments_lexer": "ipython3",
   "version": "3.6.7"
  }
 },
 "nbformat": 4,
 "nbformat_minor": 1
}
