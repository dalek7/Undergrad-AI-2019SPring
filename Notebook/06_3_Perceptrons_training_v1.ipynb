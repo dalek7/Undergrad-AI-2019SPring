{
 "cells": [
  {
   "cell_type": "markdown",
   "metadata": {
    "colab_type": "text",
    "id": "JPjETAMyF0Ly"
   },
   "source": [
    "### Perceptrons - Training"
   ]
  },
  {
   "cell_type": "markdown",
   "metadata": {
    "colab_type": "text",
    "id": "l01pGPa2F0Lz"
   },
   "source": [
    "Note for 717005@ Hallym University !"
   ]
  },
  {
   "cell_type": "markdown",
   "metadata": {
    "colab_type": "text",
    "id": "5v3RFyV_F0L1"
   },
   "source": [
    "* Make a prediction with weights"
   ]
  },
  {
   "cell_type": "code",
   "execution_count": 1,
   "metadata": {
    "colab": {},
    "colab_type": "code",
    "id": "G-gw4v54F0L3"
   },
   "outputs": [],
   "source": [
    "def predict(X, w):\n",
    "    bias = w[0]\n",
    "    activation = bias + w[1]* X[0] + w[2]* X[1]\n",
    "    if activation >= 0.0:\n",
    "        return 1.0\n",
    "    else:\n",
    "        return 0.0"
   ]
  },
  {
   "cell_type": "markdown",
   "metadata": {
    "colab_type": "text",
    "id": "FTYUtJ-cF0L-"
   },
   "source": [
    "* Estimate Perceptron weights using stochastic gradient descent"
   ]
  },
  {
   "cell_type": "code",
   "execution_count": 2,
   "metadata": {
    "colab": {},
    "colab_type": "code",
    "id": "icOfeOzGF0MA"
   },
   "outputs": [],
   "source": [
    "def train_weights(train, l_rate, n_epoch):\n",
    "    #weights = [0.0 for i in range(len(train[0]))]\n",
    "    weights = [0, 0, 0]\n",
    "    print(weights)\n",
    "    print('----------------------')\n",
    "    \n",
    "    vb = []\n",
    "    vw0 = []\n",
    "    vw1 = []\n",
    "    \n",
    "    for epoch in range(n_epoch):\n",
    "        sum_error = 0.0\n",
    "        for row in train:\n",
    "            prediction = predict(row, weights)\n",
    "            jd = row[-1]\n",
    "            error =  jd - prediction\n",
    "            sum_error += error**2\n",
    "            \n",
    "            weights[0] = weights[0] + l_rate * error\n",
    "            for i in range(len(row)-1):\n",
    "                weights[i + 1] = weights[i + 1] + l_rate * error * row[i]\n",
    "            \n",
    "            vb.append(weights[0])\n",
    "            vw0.append(weights[1])\n",
    "            vw1.append(weights[2])\n",
    "            \n",
    "        print('epoch={}, error={}'.format(epoch, sum_error))\n",
    "    return weights, vb, vw0, vw1"
   ]
  },
  {
   "cell_type": "code",
   "execution_count": 3,
   "metadata": {
    "colab": {},
    "colab_type": "code",
    "id": "t9csiK5bF0ME"
   },
   "outputs": [],
   "source": [
    "# training set\n",
    "dataset = [[2.7810836,2.550537003,0],\n",
    "    [1.465489372,2.362125076,0],\n",
    "    [3.396561688,4.400293529,0],\n",
    "    [1.38807019,1.850220317,0],\n",
    "    [3.06407232,3.005305973,0],\n",
    "    [7.627531214,2.759262235,1],\n",
    "    [5.332441248,2.088626775,1],\n",
    "    [6.922596716,1.77106367,1],\n",
    "    [8.675418651,-0.242068655,1],\n",
    "    [7.673756466,3.508563011,1]]"
   ]
  },
  {
   "cell_type": "markdown",
   "metadata": {
    "colab_type": "text",
    "id": "LSFKoq-qF0MK"
   },
   "source": [
    "* Hyperparameters"
   ]
  },
  {
   "cell_type": "code",
   "execution_count": 4,
   "metadata": {
    "colab": {},
    "colab_type": "code",
    "id": "QoziW7TgF0ML"
   },
   "outputs": [],
   "source": [
    "l_rate = 0.1\n",
    "n_epoch = 5"
   ]
  },
  {
   "cell_type": "code",
   "execution_count": 5,
   "metadata": {
    "colab": {
     "base_uri": "https://localhost:8080/",
     "height": 142
    },
    "colab_type": "code",
    "executionInfo": {
     "elapsed": 1586,
     "status": "ok",
     "timestamp": 1554949723916,
     "user": {
      "displayName": "Seung-Chan Kim",
      "photoUrl": "https://lh6.googleusercontent.com/-GfSlgMh8OAM/AAAAAAAAAAI/AAAAAAAAAU8/pF51x30wES8/s64/photo.jpg",
      "userId": "15121482667684748397"
     },
     "user_tz": -540
    },
    "id": "42tdfQ0FF0MP",
    "outputId": "92fe2aa6-ab4f-4f85-9189-a7415fa18564"
   },
   "outputs": [
    {
     "name": "stdout",
     "output_type": "stream",
     "text": [
      "[0, 0, 0]\n",
      "----------------------\n",
      "epoch=0, error=2.0\n",
      "epoch=1, error=1.0\n",
      "epoch=2, error=0.0\n",
      "epoch=3, error=0.0\n",
      "epoch=4, error=0.0\n"
     ]
    }
   ],
   "source": [
    "weights, vb, vw0, vw1 = train_weights(dataset, l_rate, n_epoch)"
   ]
  },
  {
   "cell_type": "code",
   "execution_count": 6,
   "metadata": {
    "colab": {
     "base_uri": "https://localhost:8080/",
     "height": 35
    },
    "colab_type": "code",
    "executionInfo": {
     "elapsed": 1576,
     "status": "ok",
     "timestamp": 1554949723917,
     "user": {
      "displayName": "Seung-Chan Kim",
      "photoUrl": "https://lh6.googleusercontent.com/-GfSlgMh8OAM/AAAAAAAAAAI/AAAAAAAAAU8/pF51x30wES8/s64/photo.jpg",
      "userId": "15121482667684748397"
     },
     "user_tz": -540
    },
    "id": "VpOBQ0jmF0MY",
    "outputId": "286727f4-ea20-4ead-d8dc-3bd42809bff5"
   },
   "outputs": [
    {
     "name": "stdout",
     "output_type": "stream",
     "text": [
      "[-0.1, 0.20653640140000007, -0.23418117710000003]\n"
     ]
    }
   ],
   "source": [
    "print(weights)"
   ]
  },
  {
   "cell_type": "code",
   "execution_count": 7,
   "metadata": {
    "colab": {
     "base_uri": "https://localhost:8080/",
     "height": 35
    },
    "colab_type": "code",
    "executionInfo": {
     "elapsed": 697,
     "status": "ok",
     "timestamp": 1554950660384,
     "user": {
      "displayName": "Seung-Chan Kim",
      "photoUrl": "https://lh6.googleusercontent.com/-GfSlgMh8OAM/AAAAAAAAAAI/AAAAAAAAAU8/pF51x30wES8/s64/photo.jpg",
      "userId": "15121482667684748397"
     },
     "user_tz": -540
    },
    "id": "uKqa2wy9R6qh",
    "outputId": "1d9414d9-0a9b-4577-c481-4d9ea2d38006"
   },
   "outputs": [
    {
     "name": "stdout",
     "output_type": "stream",
     "text": [
      "0.0\n"
     ]
    }
   ],
   "source": [
    "pred = predict([3.8, 3], weights)\n",
    "print(pred)"
   ]
  },
  {
   "cell_type": "code",
   "execution_count": 8,
   "metadata": {
    "colab": {},
    "colab_type": "code",
    "id": "bd6HMn9bOMvT"
   },
   "outputs": [],
   "source": [
    "import matplotlib.pyplot as plt"
   ]
  },
  {
   "cell_type": "code",
   "execution_count": 9,
   "metadata": {
    "colab": {
     "base_uri": "https://localhost:8080/",
     "height": 287
    },
    "colab_type": "code",
    "executionInfo": {
     "elapsed": 2173,
     "status": "ok",
     "timestamp": 1554949724519,
     "user": {
      "displayName": "Seung-Chan Kim",
      "photoUrl": "https://lh6.googleusercontent.com/-GfSlgMh8OAM/AAAAAAAAAAI/AAAAAAAAAU8/pF51x30wES8/s64/photo.jpg",
      "userId": "15121482667684748397"
     },
     "user_tz": -540
    },
    "id": "oT8wqji2OR_-",
    "outputId": "0e4eccb8-4362-430c-c3e4-6ab533dd2796"
   },
   "outputs": [
    {
     "data": {
      "text/plain": [
       "[<matplotlib.lines.Line2D at 0x10bd95fd0>]"
      ]
     },
     "execution_count": 9,
     "metadata": {},
     "output_type": "execute_result"
    },
    {
     "data": {
      "image/png": "[encoded data removed]",
      "text/plain": [
       "<Figure size 432x288 with 1 Axes>"
      ]
     },
     "metadata": {
      "needs_background": "light"
     },
     "output_type": "display_data"
    }
   ],
   "source": [
    "plt.plot(vb)"
   ]
  },
  {
   "cell_type": "code",
   "execution_count": 10,
   "metadata": {
    "colab": {
     "base_uri": "https://localhost:8080/",
     "height": 287
    },
    "colab_type": "code",
    "executionInfo": {
     "elapsed": 879,
     "status": "ok",
     "timestamp": 1554949767282,
     "user": {
      "displayName": "Seung-Chan Kim",
      "photoUrl": "https://lh6.googleusercontent.com/-GfSlgMh8OAM/AAAAAAAAAAI/AAAAAAAAAU8/pF51x30wES8/s64/photo.jpg",
      "userId": "15121482667684748397"
     },
     "user_tz": -540
    },
    "id": "EFbxwOT5Ohhd",
    "outputId": "26489e5c-d2e5-4fd6-fa5b-4a90ac86879f"
   },
   "outputs": [
    {
     "data": {
      "text/plain": [
       "[<matplotlib.lines.Line2D at 0x10be32a90>]"
      ]
     },
     "execution_count": 10,
     "metadata": {},
     "output_type": "execute_result"
    },
    {
     "data": {
      "image/png": "[encoded data removed]",
      "text/plain": [
       "<Figure size 432x288 with 1 Axes>"
      ]
     },
     "metadata": {
      "needs_background": "light"
     },
     "output_type": "display_data"
    }
   ],
   "source": [
    "plt.plot(vw0)\n",
    "plt.plot(vw1)"
   ]
  },
  {
   "cell_type": "markdown",
   "metadata": {
    "colab_type": "text",
    "id": "vSGRerREF0Md"
   },
   "source": [
    "* Why ?"
   ]
  },
  {
   "cell_type": "markdown",
   "metadata": {
    "colab_type": "text",
    "id": "rWROwmRKF0Me"
   },
   "source": [
    "partial derivative with respect to m (a.k.a weight)"
   ]
  },
  {
   "cell_type": "markdown",
   "metadata": {
    "colab_type": "text",
    "id": "KdKS5ggBF0Mf"
   },
   "source": [
    "$$ \\frac{\\partial J(m,b)}{\\partial m} =  \\frac{1}{n}\\sum_{i=1}^{n} -2 x^{(i)} (y_{i}-(mx^{(i)} + b)) \\\\\n",
    "= \\frac{2}{n}\\sum_{i=1}^{n} x^{(i)} ((mx^{(i)} + b)-y^{(i)}) \\\\\n",
    "= \\frac{2}{n}\\sum_{i=1}^{n} x^{(i)} (\\hat{y}^{(i)} -y^{(i)})$$"
   ]
  },
  {
   "cell_type": "markdown",
   "metadata": {
    "colab_type": "text",
    "id": "xfda-p0cF0Mg"
   },
   "source": [
    "partial derivative with respect to b (a.k.a bias)"
   ]
  },
  {
   "cell_type": "markdown",
   "metadata": {
    "colab_type": "text",
    "id": "KqcXXbZSF0Mh"
   },
   "source": [
    "$$ \\frac{\\partial J(m,b)}{\\partial b} =  \\frac{1}{n}\\sum_{i=1}^{n} -2  (y^{(i)}-(mx^{(i)} + b)) \\\\\n",
    "= \\frac{-2}{n}\\sum_{i=1}^{n}  (y^{(i)}-(mx^{(i)} + b)) \\\\\n",
    "= \\frac{2}{n}\\sum_{i=1}^{n}  (\\hat{y}^{(i)}-y^{(i)}) \\\\ $$\n"
   ]
  },
  {
   "cell_type": "markdown",
   "metadata": {
    "colab_type": "text",
    "id": "JV7EfF_RF0Mi"
   },
   "source": [
    "Partial derivatives : https://www.mathsisfun.com/calculus/derivatives-partial.html"
   ]
  },
  {
   "cell_type": "markdown",
   "metadata": {
    "colab_type": "text",
    "id": "DKN4ifbLF0Mj"
   },
   "source": [
    "* References"
   ]
  },
  {
   "cell_type": "markdown",
   "metadata": {
    "colab_type": "text",
    "id": "pWMpqIKVF0Mk"
   },
   "source": [
    "```\n",
    "https://machinelearningmastery.com/implement-perceptron-algorithm-scratch-python/\n",
    "```"
   ]
  }
 ],
 "metadata": {
  "colab": {
   "collapsed_sections": [],
   "name": "06_3_Perceptrons_training_v1.ipynb",
   "provenance": [],
   "version": "0.3.2"
  },
  "kernelspec": {
   "display_name": "Python 3",
   "language": "python",
   "name": "python3"
  },
  "language_info": {
   "codemirror_mode": {
    "name": "ipython",
    "version": 3
   },
   "file_extension": ".py",
   "mimetype": "text/x-python",
   "name": "python",
   "nbconvert_exporter": "python",
   "pygments_lexer": "ipython3",
   "version": "3.6.7"
  }
 },
 "nbformat": 4,
 "nbformat_minor": 1
}
