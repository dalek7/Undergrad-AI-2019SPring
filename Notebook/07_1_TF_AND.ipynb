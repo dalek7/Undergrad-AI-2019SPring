{
 "cells": [
  {
   "cell_type": "markdown",
   "metadata": {
    "colab_type": "text",
    "id": "g_EjNkcq695q"
   },
   "source": [
    "### Important  : AND Gate"
   ]
  },
  {
   "cell_type": "code",
   "execution_count": 1,
   "metadata": {
    "colab": {},
    "colab_type": "code",
    "id": "0jmvhundCJDz"
   },
   "outputs": [],
   "source": [
    "import tensorflow as tf\n",
    "import numpy as np\n",
    "import matplotlib.pyplot as plt\n",
    "tf.set_random_seed(777)  # for reproducibility"
   ]
  },
  {
   "cell_type": "markdown",
   "metadata": {
    "colab_type": "text",
    "id": "o6ET_2J0AOqv"
   },
   "source": [
    "* Hyperparameters"
   ]
  },
  {
   "cell_type": "code",
   "execution_count": 2,
   "metadata": {
    "colab": {},
    "colab_type": "code",
    "id": "WzW0FN3dCTzh"
   },
   "outputs": [],
   "source": [
    "learning_rate = 0.1\n",
    "nb_epoch = 10000"
   ]
  },
  {
   "cell_type": "markdown",
   "metadata": {
    "colab_type": "text",
    "id": "EoOf0lFaAdz8"
   },
   "source": [
    "* Dataset"
   ]
  },
  {
   "cell_type": "code",
   "execution_count": 3,
   "metadata": {
    "colab": {},
    "colab_type": "code",
    "id": "TRFa_R0NCU9O"
   },
   "outputs": [],
   "source": [
    "x_data = [[0, 0],\n",
    "          [0, 1],\n",
    "          [1, 0],\n",
    "          [1, 1]]\n",
    "\n",
    "y_data = [[0],\n",
    "          [0],\n",
    "          [0],\n",
    "          [1]]"
   ]
  },
  {
   "cell_type": "code",
   "execution_count": 4,
   "metadata": {
    "colab": {},
    "colab_type": "code",
    "id": "wryD8a17CXjl"
   },
   "outputs": [],
   "source": [
    "x_data = np.array(x_data, dtype=np.float32)\n",
    "y_data = np.array(y_data, dtype=np.float32)"
   ]
  },
  {
   "cell_type": "code",
   "execution_count": 5,
   "metadata": {
    "colab": {
     "base_uri": "https://localhost:8080/",
     "height": 36
    },
    "colab_type": "code",
    "executionInfo": {
     "elapsed": 949,
     "status": "ok",
     "timestamp": 1556157751738,
     "user": {
      "displayName": "Seung-Chan Kim",
      "photoUrl": "https://lh6.googleusercontent.com/-GfSlgMh8OAM/AAAAAAAAAAI/AAAAAAAAAU8/pF51x30wES8/s64/photo.jpg",
      "userId": "15121482667684748397"
     },
     "user_tz": -540
    },
    "id": "w12CkB6DBATX",
    "outputId": "9003d23d-0850-445b-ecaa-0ebdd07bb7c0"
   },
   "outputs": [
    {
     "data": {
      "text/plain": [
       "(4, 2)"
      ]
     },
     "execution_count": 5,
     "metadata": {},
     "output_type": "execute_result"
    }
   ],
   "source": [
    "x_data.shape"
   ]
  },
  {
   "cell_type": "code",
   "execution_count": 6,
   "metadata": {
    "colab": {
     "base_uri": "https://localhost:8080/",
     "height": 36
    },
    "colab_type": "code",
    "executionInfo": {
     "elapsed": 940,
     "status": "ok",
     "timestamp": 1556157751739,
     "user": {
      "displayName": "Seung-Chan Kim",
      "photoUrl": "https://lh6.googleusercontent.com/-GfSlgMh8OAM/AAAAAAAAAAI/AAAAAAAAAU8/pF51x30wES8/s64/photo.jpg",
      "userId": "15121482667684748397"
     },
     "user_tz": -540
    },
    "id": "MgcpdMLBBK9f",
    "outputId": "bcb5fd28-2863-455f-94cb-c63d0372b556"
   },
   "outputs": [
    {
     "data": {
      "text/plain": [
       "(4, 1)"
      ]
     },
     "execution_count": 6,
     "metadata": {},
     "output_type": "execute_result"
    }
   ],
   "source": [
    "y_data.shape"
   ]
  },
  {
   "cell_type": "code",
   "execution_count": 7,
   "metadata": {
    "colab": {},
    "colab_type": "code",
    "id": "cCl1Oc1wCZuH"
   },
   "outputs": [],
   "source": [
    "X = tf.placeholder(tf.float32, [None, 2])\n",
    "Y = tf.placeholder(tf.float32, [None, 1])\n",
    "\n",
    "W1 = tf.Variable(tf.random_normal([2, 1]), name='weight1')\n",
    "b1 = tf.Variable(tf.random_normal([1]), name='bias1')\n",
    "hypothesis = tf.sigmoid(tf.matmul(X, W1) + b1)"
   ]
  },
  {
   "cell_type": "code",
   "execution_count": 8,
   "metadata": {
    "colab": {},
    "colab_type": "code",
    "id": "NaCrzRooCaqo"
   },
   "outputs": [],
   "source": [
    "cost = tf.reduce_mean(tf.square(hypothesis - Y))\n",
    "train = tf.train.GradientDescentOptimizer(learning_rate=learning_rate).minimize(cost)"
   ]
  },
  {
   "cell_type": "code",
   "execution_count": 9,
   "metadata": {
    "colab": {},
    "colab_type": "code",
    "id": "HCvkEywV696A"
   },
   "outputs": [],
   "source": [
    "# Launch graph\n",
    "sess = tf.Session()"
   ]
  },
  {
   "cell_type": "code",
   "execution_count": 10,
   "metadata": {
    "colab": {},
    "colab_type": "code",
    "id": "0ZX4wgM6Cjlc"
   },
   "outputs": [],
   "source": [
    "# TensorFlow 변수들(variables) 초기화 (Initialization)\n",
    "sess.run(tf.global_variables_initializer())"
   ]
  },
  {
   "cell_type": "code",
   "execution_count": 11,
   "metadata": {
    "colab": {
     "base_uri": "https://localhost:8080/",
     "height": 223
    },
    "colab_type": "code",
    "executionInfo": {
     "elapsed": 5455,
     "status": "ok",
     "timestamp": 1556157756303,
     "user": {
      "displayName": "Seung-Chan Kim",
      "photoUrl": "https://lh6.googleusercontent.com/-GfSlgMh8OAM/AAAAAAAAAAI/AAAAAAAAAU8/pF51x30wES8/s64/photo.jpg",
      "userId": "15121482667684748397"
     },
     "user_tz": -540
    },
    "id": "ghgUby8U696J",
    "outputId": "a126a316-dc68-4414-f1e7-d44e9ec05474"
   },
   "outputs": [
    {
     "name": "stdout",
     "output_type": "stream",
     "text": [
      "step=0 / cost=0.388042688369751\n",
      "step=1000 / cost=0.05623956769704819\n",
      "step=2000 / cost=0.0314212366938591\n",
      "step=3000 / cost=0.02105650305747986\n",
      "step=4000 / cost=0.015561504289507866\n",
      "step=5000 / cost=0.012223777361214161\n",
      "step=6000 / cost=0.010006972588598728\n",
      "step=7000 / cost=0.008438924327492714\n",
      "step=8000 / cost=0.007276789750903845\n",
      "step=9000 / cost=0.0063840169459581375\n",
      "step=10000 / cost=0.00567843159660697\n"
     ]
    }
   ],
   "source": [
    "for i in range(nb_epoch+1):\n",
    "    sess.run(train, feed_dict={X: x_data, Y: y_data})\n",
    "\n",
    "    if i % 1000 ==0:\n",
    "        c1 = sess.run(cost, feed_dict={X: x_data, Y: y_data})\n",
    "        print('step={} / cost={}'.format(i, c1))"
   ]
  },
  {
   "cell_type": "markdown",
   "metadata": {
    "colab_type": "text",
    "id": "DTPoPlls696O"
   },
   "source": [
    "### Checking the results"
   ]
  },
  {
   "cell_type": "code",
   "execution_count": 12,
   "metadata": {
    "colab": {
     "base_uri": "https://localhost:8080/",
     "height": 92
    },
    "colab_type": "code",
    "executionInfo": {
     "elapsed": 5440,
     "status": "ok",
     "timestamp": 1556157756305,
     "user": {
      "displayName": "Seung-Chan Kim",
      "photoUrl": "https://lh6.googleusercontent.com/-GfSlgMh8OAM/AAAAAAAAAAI/AAAAAAAAAU8/pF51x30wES8/s64/photo.jpg",
      "userId": "15121482667684748397"
     },
     "user_tz": -540
    },
    "id": "SwkzmbhX696P",
    "outputId": "fc2eb6ba-f2c2-40ad-be7f-78f24aec650f"
   },
   "outputs": [
    {
     "name": "stdout",
     "output_type": "stream",
     "text": [
      "0 [[0.00084553]]\n",
      "1 [[0.08142591]]\n",
      "2 [[0.08142591]]\n",
      "3 [[0.9027752]]\n"
     ]
    }
   ],
   "source": [
    "for i in range(4):\n",
    "    x1 = x_data[[i], :]\n",
    "\n",
    "    l1 = tf.sigmoid(tf.matmul(x1, W1) + b1)\n",
    "  \n",
    "    \n",
    "    print( i, sess.run(l1))\n",
    "    #print( i, sess.run(l2), sess.run(l2cast), y_data[[i], :])   "
   ]
  }
 ],
 "metadata": {
  "colab": {
   "collapsed_sections": [],
   "name": "07_1_TF_AND.ipynb",
   "provenance": [
    {
     "file_id": "1shYpTaO0Io2kwkTDmOiprLoUkUFGatBH",
     "timestamp": 1555985201518
    }
   ],
   "version": "0.3.2"
  },
  "kernelspec": {
   "display_name": "Python 3",
   "language": "python",
   "name": "python3"
  },
  "language_info": {
   "codemirror_mode": {
    "name": "ipython",
    "version": 3
   },
   "file_extension": ".py",
   "mimetype": "text/x-python",
   "name": "python",
   "nbconvert_exporter": "python",
   "pygments_lexer": "ipython3",
   "version": "3.6.7"
  }
 },
 "nbformat": 4,
 "nbformat_minor": 1
}
