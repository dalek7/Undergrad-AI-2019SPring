{
 "cells": [
  {
   "cell_type": "markdown",
   "metadata": {
    "colab_type": "text",
    "id": "yWQ-2zZyBx91"
   },
   "source": [
    "### About reduce_mean "
   ]
  },
  {
   "cell_type": "markdown",
   "metadata": {
    "colab_type": "text",
    "id": "iGaFZBiiCLXo"
   },
   "source": [
    "The functionality of numpy.mean and tensorflow.reduce_mean are the *same*"
   ]
  },
  {
   "cell_type": "code",
   "execution_count": 1,
   "metadata": {
    "colab": {},
    "colab_type": "code",
    "id": "Qq5HTS2qCNVW"
   },
   "outputs": [],
   "source": [
    "import numpy as np\n",
    "import tensorflow as tf"
   ]
  },
  {
   "cell_type": "code",
   "execution_count": 2,
   "metadata": {
    "colab": {
     "base_uri": "https://localhost:8080/",
     "height": 69
    },
    "colab_type": "code",
    "executionInfo": {
     "elapsed": 661,
     "status": "ok",
     "timestamp": 1556156640831,
     "user": {
      "displayName": "Seung-Chan Kim",
      "photoUrl": "https://lh6.googleusercontent.com/-GfSlgMh8OAM/AAAAAAAAAAI/AAAAAAAAAU8/pF51x30wES8/s64/photo.jpg",
      "userId": "15121482667684748397"
     },
     "user_tz": -540
    },
    "id": "CqgKudwRCTJ3",
    "outputId": "1d567b88-8f7c-4cfe-d4bc-3d125a7b93e0"
   },
   "outputs": [
    {
     "name": "stdout",
     "output_type": "stream",
     "text": [
      "[[3. 4.]\n",
      " [5. 6.]\n",
      " [6. 7.]]\n"
     ]
    }
   ],
   "source": [
    "c = np.array([[3.,4], [5.,6], [6.,7]])\n",
    "print(c)"
   ]
  },
  {
   "cell_type": "code",
   "execution_count": 3,
   "metadata": {
    "colab": {
     "base_uri": "https://localhost:8080/",
     "height": 34
    },
    "colab_type": "code",
    "executionInfo": {
     "elapsed": 923,
     "status": "ok",
     "timestamp": 1556156776035,
     "user": {
      "displayName": "Seung-Chan Kim",
      "photoUrl": "https://lh6.googleusercontent.com/-GfSlgMh8OAM/AAAAAAAAAAI/AAAAAAAAAU8/pF51x30wES8/s64/photo.jpg",
      "userId": "15121482667684748397"
     },
     "user_tz": -540
    },
    "id": "onPsUqfkCZK-",
    "outputId": "7ccc879a-320a-47ea-f1b3-fd75b99b329d"
   },
   "outputs": [
    {
     "name": "stdout",
     "output_type": "stream",
     "text": [
      "[3.5 5.5 6.5]\n"
     ]
    }
   ],
   "source": [
    "m1 = np.mean(c, axis = 1)\n",
    "print(m1)"
   ]
  },
  {
   "cell_type": "code",
   "execution_count": 4,
   "metadata": {
    "colab": {
     "base_uri": "https://localhost:8080/",
     "height": 35
    },
    "colab_type": "code",
    "executionInfo": {
     "elapsed": 512,
     "status": "ok",
     "timestamp": 1556154766540,
     "user": {
      "displayName": "Seung-Chan Kim",
      "photoUrl": "https://lh6.googleusercontent.com/-GfSlgMh8OAM/AAAAAAAAAAI/AAAAAAAAAU8/pF51x30wES8/s64/photo.jpg",
      "userId": "15121482667684748397"
     },
     "user_tz": -540
    },
    "id": "rELkXsZYC_BF",
    "outputId": "6b9cb188-ee15-4f98-d4f2-8e476429c400"
   },
   "outputs": [
    {
     "name": "stdout",
     "output_type": "stream",
     "text": [
      "[3.5 5.5 6.5]\n"
     ]
    }
   ],
   "source": [
    "m2 = tf.reduce_mean(c,axis = 1)\n",
    "with tf.Session() as sess:\n",
    "    result = sess.run(m2)\n",
    "    print(result)"
   ]
  }
 ],
 "metadata": {
  "colab": {
   "collapsed_sections": [],
   "name": "07_0_TF_reduce_mean.ipynb",
   "provenance": [],
   "version": "0.3.2"
  },
  "kernelspec": {
   "display_name": "Python 3",
   "language": "python",
   "name": "python3"
  },
  "language_info": {
   "codemirror_mode": {
    "name": "ipython",
    "version": 3
   },
   "file_extension": ".py",
   "mimetype": "text/x-python",
   "name": "python",
   "nbconvert_exporter": "python",
   "pygments_lexer": "ipython3",
   "version": "3.6.7"
  }
 },
 "nbformat": 4,
 "nbformat_minor": 1
}
