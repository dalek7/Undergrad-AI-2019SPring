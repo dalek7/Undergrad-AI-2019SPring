{
 "cells": [
  {
   "cell_type": "markdown",
   "metadata": {
    "colab_type": "text",
    "id": "VDWWdvp-0gPv"
   },
   "source": [
    "# Hello NumPy !"
   ]
  },
  {
   "cell_type": "markdown",
   "metadata": {
    "colab_type": "text",
    "id": "0qguB_Iv0gPw"
   },
   "source": [
    "### OBJECTIVE: Familiarize yourself with Numpy\n",
    "\n",
    "* This page was created for students to learn Python in the AI (717005) class at Hallym University.\n",
    "* 본 페이지는 한림대학교 인공지능개론(717005) 수업에서 학생들의 Python 학습을 위해 만든 페이지입니다. "
   ]
  },
  {
   "cell_type": "code",
   "execution_count": 1,
   "metadata": {
    "colab": {},
    "colab_type": "code",
    "id": "Svv5RNvO0gPy"
   },
   "outputs": [],
   "source": [
    "import numpy as np"
   ]
  },
  {
   "cell_type": "code",
   "execution_count": 2,
   "metadata": {
    "colab": {
     "base_uri": "https://localhost:8080/",
     "height": 89
    },
    "colab_type": "code",
    "executionInfo": {
     "elapsed": 674,
     "status": "ok",
     "timestamp": 1556587158989,
     "user": {
      "displayName": "Seung-Chan Kim",
      "photoUrl": "https://lh6.googleusercontent.com/-GfSlgMh8OAM/AAAAAAAAAAI/AAAAAAAAAU8/pF51x30wES8/s64/photo.jpg",
      "userId": "15121482667684748397"
     },
     "user_tz": -540
    },
    "id": "oPUKhPgC0gP2",
    "outputId": "0d4e2a5c-2910-42a0-f581-3eaefcb3184d"
   },
   "outputs": [
    {
     "name": "stdout",
     "output_type": "stream",
     "text": [
      "<class 'numpy.ndarray'>\n",
      "(3,)\n",
      "1 2 3\n",
      "[5 2 3]\n"
     ]
    }
   ],
   "source": [
    "a = np.array([1, 2, 3])   \n",
    "\n",
    "print(type(a))            #  “<type ‘numpy.ndarray’>”\n",
    "print(a.shape)            #  “(3,)”\n",
    "print(a[0], a[1], a[2])   #  “1 2 3”\n",
    "a[0] = 5                \n",
    "print(a)                  # \"[5, 2, 3]\""
   ]
  },
  {
   "cell_type": "code",
   "execution_count": 3,
   "metadata": {
    "colab": {
     "base_uri": "https://localhost:8080/",
     "height": 53
    },
    "colab_type": "code",
    "executionInfo": {
     "elapsed": 664,
     "status": "ok",
     "timestamp": 1556587158990,
     "user": {
      "displayName": "Seung-Chan Kim",
      "photoUrl": "https://lh6.googleusercontent.com/-GfSlgMh8OAM/AAAAAAAAAAI/AAAAAAAAAU8/pF51x30wES8/s64/photo.jpg",
      "userId": "15121482667684748397"
     },
     "user_tz": -540
    },
    "id": "u-qMNPQG0gP8",
    "outputId": "2efcba84-ae61-41eb-80e0-a1528ca16751"
   },
   "outputs": [
    {
     "name": "stdout",
     "output_type": "stream",
     "text": [
      "[[1 2 3]\n",
      " [4 5 6]]\n"
     ]
    }
   ],
   "source": [
    "b = np.array([[1,2,3],[4,5,6]])   # Create an array with a rank of 2 (rank가 2인 배열 생성)\n",
    "print(b)"
   ]
  },
  {
   "cell_type": "code",
   "execution_count": 4,
   "metadata": {
    "colab": {
     "base_uri": "https://localhost:8080/",
     "height": 35
    },
    "colab_type": "code",
    "executionInfo": {
     "elapsed": 646,
     "status": "ok",
     "timestamp": 1556587158991,
     "user": {
      "displayName": "Seung-Chan Kim",
      "photoUrl": "https://lh6.googleusercontent.com/-GfSlgMh8OAM/AAAAAAAAAAI/AAAAAAAAAU8/pF51x30wES8/s64/photo.jpg",
      "userId": "15121482667684748397"
     },
     "user_tz": -540
    },
    "id": "yqVxtOM_0gQA",
    "outputId": "88116186-f9eb-42de-f0be-a6c74974d7f5"
   },
   "outputs": [
    {
     "name": "stdout",
     "output_type": "stream",
     "text": [
      "(2, 3)\n"
     ]
    }
   ],
   "source": [
    "print(b.shape)                     #  \"(2, 3)\""
   ]
  },
  {
   "cell_type": "code",
   "execution_count": 5,
   "metadata": {
    "colab": {
     "base_uri": "https://localhost:8080/",
     "height": 35
    },
    "colab_type": "code",
    "executionInfo": {
     "elapsed": 943,
     "status": "ok",
     "timestamp": 1556587159303,
     "user": {
      "displayName": "Seung-Chan Kim",
      "photoUrl": "https://lh6.googleusercontent.com/-GfSlgMh8OAM/AAAAAAAAAAI/AAAAAAAAAU8/pF51x30wES8/s64/photo.jpg",
      "userId": "15121482667684748397"
     },
     "user_tz": -540
    },
    "id": "srCCtq3B0gQD",
    "outputId": "058cf19f-be84-42a8-d3f6-13505c9ba689"
   },
   "outputs": [
    {
     "name": "stdout",
     "output_type": "stream",
     "text": [
      "1\n"
     ]
    }
   ],
   "source": [
    "print(b[0, 0])"
   ]
  },
  {
   "cell_type": "code",
   "execution_count": 6,
   "metadata": {
    "colab": {
     "base_uri": "https://localhost:8080/",
     "height": 35
    },
    "colab_type": "code",
    "executionInfo": {
     "elapsed": 935,
     "status": "ok",
     "timestamp": 1556587159305,
     "user": {
      "displayName": "Seung-Chan Kim",
      "photoUrl": "https://lh6.googleusercontent.com/-GfSlgMh8OAM/AAAAAAAAAAI/AAAAAAAAAU8/pF51x30wES8/s64/photo.jpg",
      "userId": "15121482667684748397"
     },
     "user_tz": -540
    },
    "id": "-VsIQNZo0gQI",
    "outputId": "d5dfc633-09cf-47fb-a92e-27f262d192b0"
   },
   "outputs": [
    {
     "name": "stdout",
     "output_type": "stream",
     "text": [
      "5\n"
     ]
    }
   ],
   "source": [
    "print(b[1, 1])"
   ]
  },
  {
   "cell_type": "code",
   "execution_count": 7,
   "metadata": {
    "colab": {
     "base_uri": "https://localhost:8080/",
     "height": 35
    },
    "colab_type": "code",
    "executionInfo": {
     "elapsed": 922,
     "status": "ok",
     "timestamp": 1556587159305,
     "user": {
      "displayName": "Seung-Chan Kim",
      "photoUrl": "https://lh6.googleusercontent.com/-GfSlgMh8OAM/AAAAAAAAAAI/AAAAAAAAAU8/pF51x30wES8/s64/photo.jpg",
      "userId": "15121482667684748397"
     },
     "user_tz": -540
    },
    "id": "MMZi0Iqq0gQM",
    "outputId": "227cd8f7-40df-415f-9bdc-519fc6acfd12"
   },
   "outputs": [
    {
     "name": "stdout",
     "output_type": "stream",
     "text": [
      "6\n"
     ]
    }
   ],
   "source": [
    "print(b[1, 2])"
   ]
  },
  {
   "cell_type": "markdown",
   "metadata": {
    "colab_type": "text",
    "id": "RvI1f1Su0gQP"
   },
   "source": [
    "### Axis / axes"
   ]
  },
  {
   "cell_type": "markdown",
   "metadata": {
    "colab_type": "text",
    "id": "Rgqnbt1P0gQQ"
   },
   "source": [
    "* the nth coordinate to index an array in Numpy. \n",
    "* multidimensional arrays can have one index per axis."
   ]
  },
  {
   "cell_type": "code",
   "execution_count": 8,
   "metadata": {
    "colab": {
     "base_uri": "https://localhost:8080/",
     "height": 53
    },
    "colab_type": "code",
    "executionInfo": {
     "elapsed": 912,
     "status": "ok",
     "timestamp": 1556587159306,
     "user": {
      "displayName": "Seung-Chan Kim",
      "photoUrl": "https://lh6.googleusercontent.com/-GfSlgMh8OAM/AAAAAAAAAAI/AAAAAAAAAU8/pF51x30wES8/s64/photo.jpg",
      "userId": "15121482667684748397"
     },
     "user_tz": -540
    },
    "id": "fSZkO9ew0gQS",
    "outputId": "e5255548-4890-4eee-a00c-421070d8ecca"
   },
   "outputs": [
    {
     "name": "stdout",
     "output_type": "stream",
     "text": [
      "[[1 2]\n",
      " [3 4]]\n"
     ]
    }
   ],
   "source": [
    "import numpy as np\n",
    "\n",
    "a = np.array([[1, 2], [3, 4]])\n",
    "print(a)"
   ]
  },
  {
   "cell_type": "markdown",
   "metadata": {
    "colab_type": "text",
    "id": "oEWldWc40gQW"
   },
   "source": [
    "* If not specified, the overall mean will be obtained\n",
    "(지정하지 않으면 전체 평균을 구하게 됨)"
   ]
  },
  {
   "cell_type": "code",
   "execution_count": 9,
   "metadata": {
    "colab": {
     "base_uri": "https://localhost:8080/",
     "height": 35
    },
    "colab_type": "code",
    "executionInfo": {
     "elapsed": 895,
     "status": "ok",
     "timestamp": 1556587159307,
     "user": {
      "displayName": "Seung-Chan Kim",
      "photoUrl": "https://lh6.googleusercontent.com/-GfSlgMh8OAM/AAAAAAAAAAI/AAAAAAAAAU8/pF51x30wES8/s64/photo.jpg",
      "userId": "15121482667684748397"
     },
     "user_tz": -540
    },
    "id": "tcUEsLTg0gQX",
    "outputId": "9bbd61d7-b6da-42ee-defb-c1ebe14cfd88"
   },
   "outputs": [
    {
     "name": "stdout",
     "output_type": "stream",
     "text": [
      "2.5\n"
     ]
    }
   ],
   "source": [
    "print(np.mean(a))"
   ]
  },
  {
   "cell_type": "markdown",
   "metadata": {
    "colab_type": "text",
    "id": "0ENPDWIj0gQa"
   },
   "source": [
    "Axis 0  (↓)"
   ]
  },
  {
   "cell_type": "code",
   "execution_count": 10,
   "metadata": {
    "colab": {
     "base_uri": "https://localhost:8080/",
     "height": 35
    },
    "colab_type": "code",
    "executionInfo": {
     "elapsed": 885,
     "status": "ok",
     "timestamp": 1556587159307,
     "user": {
      "displayName": "Seung-Chan Kim",
      "photoUrl": "https://lh6.googleusercontent.com/-GfSlgMh8OAM/AAAAAAAAAAI/AAAAAAAAAU8/pF51x30wES8/s64/photo.jpg",
      "userId": "15121482667684748397"
     },
     "user_tz": -540
    },
    "id": "O5a-AwI00gQb",
    "outputId": "ee28075b-1e07-4831-a20e-7650baff2052"
   },
   "outputs": [
    {
     "name": "stdout",
     "output_type": "stream",
     "text": [
      "[2. 3.]\n"
     ]
    }
   ],
   "source": [
    "print(np.mean(a, axis=0)) # [ 2.  3.]"
   ]
  },
  {
   "cell_type": "markdown",
   "metadata": {
    "colab_type": "text",
    "id": "OApb7lta0gQe"
   },
   "source": [
    "Axis 1  (→)"
   ]
  },
  {
   "cell_type": "code",
   "execution_count": 11,
   "metadata": {
    "colab": {
     "base_uri": "https://localhost:8080/",
     "height": 35
    },
    "colab_type": "code",
    "executionInfo": {
     "elapsed": 878,
     "status": "ok",
     "timestamp": 1556587159308,
     "user": {
      "displayName": "Seung-Chan Kim",
      "photoUrl": "https://lh6.googleusercontent.com/-GfSlgMh8OAM/AAAAAAAAAAI/AAAAAAAAAU8/pF51x30wES8/s64/photo.jpg",
      "userId": "15121482667684748397"
     },
     "user_tz": -540
    },
    "id": "IQYDF0WL0gQf",
    "outputId": "98775ab1-7b27-4ae8-918d-82dfc6306266"
   },
   "outputs": [
    {
     "name": "stdout",
     "output_type": "stream",
     "text": [
      "[1.5 3.5]\n"
     ]
    }
   ],
   "source": [
    "print(np.mean(a, axis=1)) # [ 1.5  3.5]"
   ]
  },
  {
   "cell_type": "markdown",
   "metadata": {
    "colab_type": "text",
    "id": "ypTjs7hQ0gQj"
   },
   "source": [
    "### Broadcast\n",
    "* Calculate arrays with different shapes\n",
    "형상이 다른 배열을 계산하기 위해서 지원하는 기능 "
   ]
  },
  {
   "cell_type": "code",
   "execution_count": 12,
   "metadata": {
    "colab": {
     "base_uri": "https://localhost:8080/",
     "height": 89
    },
    "colab_type": "code",
    "executionInfo": {
     "elapsed": 868,
     "status": "ok",
     "timestamp": 1556587159309,
     "user": {
      "displayName": "Seung-Chan Kim",
      "photoUrl": "https://lh6.googleusercontent.com/-GfSlgMh8OAM/AAAAAAAAAAI/AAAAAAAAAU8/pF51x30wES8/s64/photo.jpg",
      "userId": "15121482667684748397"
     },
     "user_tz": -540
    },
    "id": "Nlmo3Cbn0gQk",
    "outputId": "20e37809-32b2-497c-e5c3-83bce4ff80c3"
   },
   "outputs": [
    {
     "name": "stdout",
     "output_type": "stream",
     "text": [
      "[[1 2]\n",
      " [3 4]]\n",
      "--------\n",
      "[10 20]\n"
     ]
    }
   ],
   "source": [
    "A = np.array([[1, 2], [3, 4]])\n",
    "B = np.array([10, 20])\n",
    "print(A)\n",
    "print('--------')\n",
    "print(B)\n"
   ]
  },
  {
   "cell_type": "markdown",
   "metadata": {
    "colab_type": "text",
    "id": "stFXvBWN0gQo"
   },
   "source": [
    "Please observe how it is multiplied. (어떻게 곱해지는지 잘 관찰바랍니다.)"
   ]
  },
  {
   "cell_type": "code",
   "execution_count": 13,
   "metadata": {
    "colab": {
     "base_uri": "https://localhost:8080/",
     "height": 53
    },
    "colab_type": "code",
    "executionInfo": {
     "elapsed": 856,
     "status": "ok",
     "timestamp": 1556587159312,
     "user": {
      "displayName": "Seung-Chan Kim",
      "photoUrl": "https://lh6.googleusercontent.com/-GfSlgMh8OAM/AAAAAAAAAAI/AAAAAAAAAU8/pF51x30wES8/s64/photo.jpg",
      "userId": "15121482667684748397"
     },
     "user_tz": -540
    },
    "id": "Uu0kQp1U0gQp",
    "outputId": "3181cf38-2eb4-4e37-a972-4a9756120f9d"
   },
   "outputs": [
    {
     "name": "stdout",
     "output_type": "stream",
     "text": [
      "[[10 40]\n",
      " [30 80]]\n"
     ]
    }
   ],
   "source": [
    "print(A*B)"
   ]
  },
  {
   "cell_type": "markdown",
   "metadata": {
    "colab_type": "text",
    "id": "Dx-9gYXq0gQt"
   },
   "source": [
    "### Stack"
   ]
  },
  {
   "cell_type": "code",
   "execution_count": 14,
   "metadata": {
    "colab": {},
    "colab_type": "code",
    "id": "_C3k1SfG0gQw"
   },
   "outputs": [],
   "source": [
    "a = np.array([1,2,3,4])\n",
    "b = np.array([5,6,7,8])"
   ]
  },
  {
   "cell_type": "markdown",
   "metadata": {
    "colab_type": "text",
    "id": "NhCBm26B0gQz"
   },
   "source": [
    "* stack vertically (세로로 쌓기)"
   ]
  },
  {
   "cell_type": "code",
   "execution_count": 15,
   "metadata": {
    "colab": {
     "base_uri": "https://localhost:8080/",
     "height": 53
    },
    "colab_type": "code",
    "executionInfo": {
     "elapsed": 844,
     "status": "ok",
     "timestamp": 1556587159314,
     "user": {
      "displayName": "Seung-Chan Kim",
      "photoUrl": "https://lh6.googleusercontent.com/-GfSlgMh8OAM/AAAAAAAAAAI/AAAAAAAAAU8/pF51x30wES8/s64/photo.jpg",
      "userId": "15121482667684748397"
     },
     "user_tz": -540
    },
    "id": "VrVUSARK0gQz",
    "outputId": "eb22265e-ca6f-41aa-eb25-9bce4f110b5b"
   },
   "outputs": [
    {
     "name": "stdout",
     "output_type": "stream",
     "text": [
      "[[1 2 3 4]\n",
      " [5 6 7 8]]\n"
     ]
    }
   ],
   "source": [
    "c = np.vstack((a,b))\n",
    "print(c)"
   ]
  },
  {
   "cell_type": "code",
   "execution_count": 16,
   "metadata": {
    "colab": {
     "base_uri": "https://localhost:8080/",
     "height": 35
    },
    "colab_type": "code",
    "executionInfo": {
     "elapsed": 837,
     "status": "ok",
     "timestamp": 1556587159315,
     "user": {
      "displayName": "Seung-Chan Kim",
      "photoUrl": "https://lh6.googleusercontent.com/-GfSlgMh8OAM/AAAAAAAAAAI/AAAAAAAAAU8/pF51x30wES8/s64/photo.jpg",
      "userId": "15121482667684748397"
     },
     "user_tz": -540
    },
    "id": "xgujhoue0gQ5",
    "outputId": "93c6052b-16e1-4b80-89df-7dfc1d8c2b97"
   },
   "outputs": [
    {
     "name": "stdout",
     "output_type": "stream",
     "text": [
      "(2, 4)\n"
     ]
    }
   ],
   "source": [
    "print(c.shape)"
   ]
  },
  {
   "cell_type": "markdown",
   "metadata": {
    "colab_type": "text",
    "id": "zX8BTqZJ0gQ8"
   },
   "source": [
    "* stack horizontally (가로로 쌓기)"
   ]
  },
  {
   "cell_type": "code",
   "execution_count": 17,
   "metadata": {
    "colab": {
     "base_uri": "https://localhost:8080/",
     "height": 35
    },
    "colab_type": "code",
    "executionInfo": {
     "elapsed": 830,
     "status": "ok",
     "timestamp": 1556587159315,
     "user": {
      "displayName": "Seung-Chan Kim",
      "photoUrl": "https://lh6.googleusercontent.com/-GfSlgMh8OAM/AAAAAAAAAAI/AAAAAAAAAU8/pF51x30wES8/s64/photo.jpg",
      "userId": "15121482667684748397"
     },
     "user_tz": -540
    },
    "id": "P7QqAyBB0gQ9",
    "outputId": "b1221d11-126e-4f2c-c423-446a9f8cbd00"
   },
   "outputs": [
    {
     "name": "stdout",
     "output_type": "stream",
     "text": [
      "[1 2 3 4 5 6 7 8]\n"
     ]
    }
   ],
   "source": [
    "d = np.hstack((a,b))\n",
    "print(d)"
   ]
  },
  {
   "cell_type": "code",
   "execution_count": 18,
   "metadata": {
    "colab": {
     "base_uri": "https://localhost:8080/",
     "height": 35
    },
    "colab_type": "code",
    "executionInfo": {
     "elapsed": 823,
     "status": "ok",
     "timestamp": 1556587159316,
     "user": {
      "displayName": "Seung-Chan Kim",
      "photoUrl": "https://lh6.googleusercontent.com/-GfSlgMh8OAM/AAAAAAAAAAI/AAAAAAAAAU8/pF51x30wES8/s64/photo.jpg",
      "userId": "15121482667684748397"
     },
     "user_tz": -540
    },
    "id": "u6D1H9pz0gRB",
    "outputId": "9c6e3c38-dfc9-4041-a145-66a8720fcd40"
   },
   "outputs": [
    {
     "name": "stdout",
     "output_type": "stream",
     "text": [
      "(8,)\n"
     ]
    }
   ],
   "source": [
    "print(d.shape)"
   ]
  }
 ],
 "metadata": {
  "colab": {
   "name": "04_HelloNumpy.ipynb",
   "provenance": [],
   "version": "0.3.2"
  },
  "kernelspec": {
   "display_name": "Python 3",
   "language": "python",
   "name": "python3"
  },
  "language_info": {
   "codemirror_mode": {
    "name": "ipython",
    "version": 3
   },
   "file_extension": ".py",
   "mimetype": "text/x-python",
   "name": "python",
   "nbconvert_exporter": "python",
   "pygments_lexer": "ipython3",
   "version": "3.6.7"
  }
 },
 "nbformat": 4,
 "nbformat_minor": 1
}
